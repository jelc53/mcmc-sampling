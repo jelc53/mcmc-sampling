{
 "cells": [
  {
   "cell_type": "code",
   "execution_count": 17,
   "id": "5d5117e3",
   "metadata": {},
   "outputs": [],
   "source": [
    "import scipy\n",
    "import numpy as np\n",
    "\n",
    "import matplotlib.pyplot as plt\n",
    "%matplotlib inline"
   ]
  },
  {
   "cell_type": "code",
   "execution_count": 18,
   "id": "74411b19",
   "metadata": {},
   "outputs": [],
   "source": [
    "num_runs = 200\n",
    "num_trials = 30"
   ]
  },
  {
   "cell_type": "code",
   "execution_count": 19,
   "id": "0b5ba99d",
   "metadata": {},
   "outputs": [],
   "source": [
    "def empirical_bayes(x_vec):\n",
    "    M1 = np.mean(x_vec)\n",
    "    M2 = np.mean(np.square(x_vec))\n",
    "\n",
    "    beta = M1 / (M2 - M1**2 - M1)\n",
    "    alpha = M1 * beta\n",
    "    beta_inv = 1 / beta\n",
    "    \n",
    "    lam_eb = (beta_inv/(beta_inv+1))*x_vec + (1/(beta_inv+1))*M1\n",
    "    \n",
    "    if 1 + beta <= 0:\n",
    "        return x_vec\n",
    "\n",
    "    return lam_eb"
   ]
  },
  {
   "cell_type": "markdown",
   "id": "570621c6",
   "metadata": {},
   "source": [
    "4d. Empirical risk of mle vs eb estimators"
   ]
  },
  {
   "cell_type": "code",
   "execution_count": 20,
   "id": "fdc79cfc",
   "metadata": {},
   "outputs": [
    {
     "name": "stdout",
     "output_type": "stream",
     "text": [
      "MSE of maximum likelihood estimator: 4.896510756885792\n",
      "MSE of empirical bayes estimator: 2.7941030876127666\n"
     ]
    }
   ],
   "source": [
    "risk_mle, risk_eb = [], []\n",
    "for i in range(num_runs):\n",
    "    lam = np.random.gamma(shape=5, scale=1.0, size=num_trials)\n",
    "    x = np.random.poisson(lam=lam)\n",
    "\n",
    "    lam_mle = np.array(x)\n",
    "    lam_eb = empirical_bayes(np.array(x))\n",
    "\n",
    "    risk_mle_i = (1/num_trials)*sum((lam_mle - lam)**2)\n",
    "    risk_eb_i = (1/num_trials)*sum((lam_eb - lam)**2)\n",
    "\n",
    "    risk_mle.append(risk_mle_i)\n",
    "    risk_eb.append(risk_eb_i)\n",
    "\n",
    "mse_mle = np.mean(np.array(risk_mle))\n",
    "mse_eb = np.mean(np.array(risk_eb))\n",
    "print('MSE of maximum likelihood estimator: {}'.format(mse_mle))\n",
    "print('MSE of empirical bayes estimator: {}'.format(mse_eb))"
   ]
  },
  {
   "cell_type": "markdown",
   "id": "e1e1a3c4",
   "metadata": {},
   "source": [
    "Our empirical bayes estimator outperforms our maximum likelihood estimator ($MSE_{mle} \\ge MSE_{eb}$). Moreover our empirical bayes posterior has lower variance (more certain) but some bias (different expectation) when compared to maximum likelihood estimator. "
   ]
  },
  {
   "cell_type": "code",
   "execution_count": 21,
   "id": "3ba5153f",
   "metadata": {},
   "outputs": [
    {
     "data": {
      "image/png": "[encoded data removed]",
      "text/plain": [
       "<Figure size 432x288 with 1 Axes>"
      ]
     },
     "metadata": {
      "needs_background": "light"
     },
     "output_type": "display_data"
    }
   ],
   "source": [
    "bins = np.linspace(0, 20, 50)\n",
    "plt.hist(risk_mle, bins, alpha=0.3, label='mle')\n",
    "plt.hist(risk_eb, bins, alpha=0.3, label='eb')\n",
    "plt.legend(loc='upper right')\n",
    "plt.show()"
   ]
  },
  {
   "cell_type": "markdown",
   "id": "6029cdcf",
   "metadata": {},
   "source": [
    "4e. Repeated analysis from 4d except with lambda sampled from a uniform distribution "
   ]
  },
  {
   "cell_type": "code",
   "execution_count": 22,
   "id": "7af65005",
   "metadata": {},
   "outputs": [
    {
     "name": "stdout",
     "output_type": "stream",
     "text": [
      "MSE of maximum likelihood estimator: 4.000836653195869\n",
      "MSE of empirical bayes estimator: 2.510351507183434\n"
     ]
    }
   ],
   "source": [
    "risk_mle, risk_eb = [], []\n",
    "for i in range(num_runs):\n",
    "    lam = np.random.uniform(low=0, high=8, size=num_trials)\n",
    "    x = np.random.poisson(lam=lam)\n",
    "\n",
    "    lam_mle = np.array(x)\n",
    "    lam_eb = empirical_bayes(np.array(x))\n",
    "\n",
    "    risk_mle_i = (1/num_trials)*sum((lam_mle - lam)**2)\n",
    "    risk_eb_i = (1/num_trials)*sum((lam_eb - lam)**2)\n",
    "\n",
    "    risk_mle.append(risk_mle_i)\n",
    "    risk_eb.append(risk_eb_i)\n",
    "\n",
    "mse_mle = np.mean(np.array(risk_mle))\n",
    "mse_eb = np.mean(np.array(risk_eb))\n",
    "print('MSE of maximum likelihood estimator: {}'.format(mse_mle))\n",
    "print('MSE of empirical bayes estimator: {}'.format(mse_eb))"
   ]
  },
  {
   "cell_type": "markdown",
   "id": "99031f3a",
   "metadata": {},
   "source": [
    "Again, as hoped, our empirical bayes estimator outperforms our maximum likelihood estimator ($MSE_{mle} \\ge MSE_{eb}$)! This is interesting since we derived the empirical bayes estimator using a different distribution ot the one actually used to generate the data. In effect, our bayes estimator has picked the best gamma distribution it can find to replicate a uniform[0,8] data generating process."
   ]
  },
  {
   "cell_type": "code",
   "execution_count": 23,
   "id": "92d01189",
   "metadata": {},
   "outputs": [
    {
     "data": {
      "image/png": "[encoded data removed]",
      "text/plain": [
       "<Figure size 432x288 with 1 Axes>"
      ]
     },
     "metadata": {
      "needs_background": "light"
     },
     "output_type": "display_data"
    }
   ],
   "source": [
    "bins = np.linspace(0, 20, 50)\n",
    "plt.hist(risk_mle, bins, alpha=0.3, label='mle')\n",
    "plt.hist(risk_eb, bins, alpha=0.3, label='eb')\n",
    "plt.legend(loc='upper right')\n",
    "plt.show()"
   ]
  },
  {
   "cell_type": "code",
   "execution_count": null,
   "id": "0921eb80",
   "metadata": {},
   "outputs": [],
   "source": []
  }
 ],
 "metadata": {
  "kernelspec": {
   "display_name": "Python [conda env:cme306-pde]",
   "language": "python",
   "name": "conda-env-cme306-pde-py"
  },
  "language_info": {
   "codemirror_mode": {
    "name": "ipython",
    "version": 3
   },
   "file_extension": ".py",
   "mimetype": "text/x-python",
   "name": "python",
   "nbconvert_exporter": "python",
   "pygments_lexer": "ipython3",
   "version": "3.9.12"
  }
 },
 "nbformat": 4,
 "nbformat_minor": 5
}
